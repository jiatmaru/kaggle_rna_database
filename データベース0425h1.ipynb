{
 "cells": [
  {
   "cell_type": "code",
   "execution_count": 1,
   "id": "c1c71d4f",
   "metadata": {},
   "outputs": [],
   "source": [
    "import pandas as pd"
   ]
  },
  {
   "cell_type": "code",
   "execution_count": 2,
   "id": "4581cd2f",
   "metadata": {},
   "outputs": [],
   "source": [
    "#train_labels.csv\n",
    "df_train_labels =pd.read_csv('train_labels.csv')"
   ]
  },
  {
   "cell_type": "code",
   "execution_count": 3,
   "id": "73f39044",
   "metadata": {},
   "outputs": [
    {
     "name": "stdout",
     "output_type": "stream",
     "text": [
      "         ID resname  resid     x_1        y_1     z_1\n",
      "0  1SCL_A_1       G      1  13.760 -25.974001   0.102\n",
      "1  1SCL_A_2       G      2   9.310 -29.638000   2.669\n",
      "2  1SCL_A_3       G      3   5.529 -27.813000   5.878\n",
      "3  1SCL_A_4       U      4   2.678 -24.900999   9.793\n",
      "4  1SCL_A_5       G      5   1.827 -20.136000  11.793\n"
     ]
    }
   ],
   "source": [
    "print(df_train_labels.head())"
   ]
  },
  {
   "cell_type": "code",
   "execution_count": 5,
   "id": "08ae6a45",
   "metadata": {},
   "outputs": [],
   "source": [
    "#csvファイルをデータフレームに保存\n",
    "df_train_sequences =pd.read_csv('train_sequences.csv')\n",
    "df_validation_labels =pd.read_csv('validation_labels.csv')\n",
    "df_validation_sequencees =pd.read_csv('validation_sequences.csv')\n",
    "df_sample_submission =pd.read_csv('sample_submission.csv')\n",
    "df_test_sequences =pd.read_csv('test_sequences.csv')"
   ]
  },
  {
   "cell_type": "markdown",
   "id": "72b8930b",
   "metadata": {},
   "source": []
  }
 ],
 "metadata": {
  "kernelspec": {
   "display_name": "base",
   "language": "python",
   "name": "python3"
  },
  "language_info": {
   "codemirror_mode": {
    "name": "ipython",
    "version": 3
   },
   "file_extension": ".py",
   "mimetype": "text/x-python",
   "name": "python",
   "nbconvert_exporter": "python",
   "pygments_lexer": "ipython3",
   "version": "3.9.12"
  }
 },
 "nbformat": 4,
 "nbformat_minor": 5
}
